{
 "cells": [
  {
   "cell_type": "markdown",
   "id": "c92432ef-da12-430e-9d74-e908c58d3e40",
   "metadata": {},
   "source": [
    "## wap in python to calculate operationb by choice of user\n"
   ]
  },
  {
   "cell_type": "code",
   "execution_count": null,
   "id": "c9f4f6c1-8b0a-4082-a93e-895d29bcadc2",
   "metadata": {},
   "outputs": [],
   "source": [
    "while True:\n",
    "    print(\"Enter a choice\")\n",
    "    print(\"1:add\")\n",
    "    print(\"2:substraction\")\n",
    "    print(\"3:multiplication\")\n",
    "    print(\"4:dicision\")\n",
    "    print(\"other to exit\")\n",
    "    x=int(input())\n",
    "    \n",
    "    \n",
    "    if x==1:\n",
    "        n=float(input(\"enter Number 1\"))\n",
    "        m=float(input(\"enter Number 2\"))\n",
    "        print(n+m)\n",
    "    elif x==2:\n",
    "        n=float(input(\"enter Number 1\"))\n",
    "        m=float(input(\"enter Number 2\"))\n",
    "        print(n-m)\n",
    "    elif x==3:\n",
    "        n=float(input(\"enter Number 1\"))\n",
    "        m=float(input(\"enter Number 2\"))\n",
    "        print(n*m)\n",
    "    elif x==4:\n",
    "        n=float(input(\"enter Number 1\"))\n",
    "        m=float(input(\"enter Number 2\"))\n",
    "        if m!=0:\n",
    "            print(n/m)\n",
    "        else:\n",
    "            print(\"can't divide by 0\")\n",
    "    else:\n",
    "        break;\n",
    "        \n",
    "        "
   ]
  },
  {
   "cell_type": "markdown",
   "id": "85f8334d-ef9d-4ddb-a627-1c1087e594c5",
   "metadata": {},
   "source": [
    "# Wap in python to calculate the factorial of numbers from 1 to n"
   ]
  },
  {
   "cell_type": "code",
   "execution_count": null,
   "id": "f166ccd3-96f6-4db5-8339-e62ed9da7df8",
   "metadata": {},
   "outputs": [],
   "source": [
    "def fact(n,memo):\n",
    "    if memo[n] is not None:\n",
    "        return memo[n]\n",
    "    elif n<=1:\n",
    "        memo[n]=1\n",
    "        return memo[n]\n",
    "    else:\n",
    "        memo[n] = n*fact(n-1,memo)\n",
    "        return memo[n]\n",
    "print(\"enter the number to find the factorial of(more than 2):\")\n",
    "num=int(input())\n",
    "memory=[None]*(num+1)\n",
    "\n",
    "for i in range(0,num+1):\n",
    "    x=fact(i,memory)\n",
    "    print(x,end=' ')\n"
   ]
  },
  {
   "cell_type": "markdown",
   "id": "fc2ea446-6efb-4e58-ae3f-6c349562e21e",
   "metadata": {},
   "source": [
    "# Factorial of number from 1 to 100"
   ]
  },
  {
   "cell_type": "code",
   "execution_count": null,
   "id": "88262303-4e89-412c-8b00-1e04bbf083f5",
   "metadata": {},
   "outputs": [],
   "source": [
    "def fiboto100():\n",
    "    f=0\n",
    "    n=1\n",
    "    res=0\n",
    "    for i in range(0,101):\n",
    "        print(res)\n",
    "        res=f+n\n",
    "        f=n\n",
    "        n=res\n",
    "\n",
    "fiboto100()\n",
    "    "
   ]
  },
  {
   "cell_type": "code",
   "execution_count": 68,
   "id": "75db46f4-7c66-4ce8-a742-9b392bf30ebc",
   "metadata": {
    "scrolled": true
   },
   "outputs": [
    {
     "name": "stdout",
     "output_type": "stream",
     "text": [
      "0\n",
      "1\n",
      "1\n",
      "2\n",
      "3\n",
      "5\n",
      "8\n",
      "13\n",
      "21\n",
      "34\n",
      "55\n",
      "89\n",
      "144\n",
      "233\n",
      "377\n",
      "610\n",
      "987\n",
      "1597\n",
      "2584\n",
      "4181\n",
      "6765\n",
      "10946\n",
      "17711\n",
      "28657\n",
      "46368\n",
      "75025\n",
      "121393\n",
      "196418\n",
      "317811\n",
      "514229\n",
      "832040\n",
      "1346269\n",
      "2178309\n",
      "3524578\n",
      "5702887\n",
      "9227465\n",
      "14930352\n",
      "24157817\n",
      "39088169\n",
      "63245986\n",
      "102334155\n",
      "165580141\n",
      "267914296\n",
      "433494437\n"
     ]
    },
    {
     "ename": "KeyboardInterrupt",
     "evalue": "",
     "output_type": "error",
     "traceback": [
      "\u001b[1;31m---------------------------------------------------------------------------\u001b[0m",
      "\u001b[1;31mKeyboardInterrupt\u001b[0m                         Traceback (most recent call last)",
      "Cell \u001b[1;32mIn[68], line 8\u001b[0m\n\u001b[0;32m      5\u001b[0m         \u001b[38;5;28;01mreturn\u001b[39;00m fibo(n\u001b[38;5;241m-\u001b[39m\u001b[38;5;241m1\u001b[39m)\u001b[38;5;241m+\u001b[39mfibo(n\u001b[38;5;241m-\u001b[39m\u001b[38;5;241m2\u001b[39m)\n\u001b[0;32m      7\u001b[0m \u001b[38;5;28;01mfor\u001b[39;00m i \u001b[38;5;129;01min\u001b[39;00m \u001b[38;5;28mrange\u001b[39m(\u001b[38;5;241m0\u001b[39m,\u001b[38;5;241m50\u001b[39m):\n\u001b[1;32m----> 8\u001b[0m     \u001b[38;5;28mprint\u001b[39m(fibo(i))\n",
      "Cell \u001b[1;32mIn[68], line 5\u001b[0m, in \u001b[0;36mfibo\u001b[1;34m(n)\u001b[0m\n\u001b[0;32m      3\u001b[0m     \u001b[38;5;28;01mreturn\u001b[39;00m n\n\u001b[0;32m      4\u001b[0m \u001b[38;5;28;01melse\u001b[39;00m:\n\u001b[1;32m----> 5\u001b[0m     \u001b[38;5;28;01mreturn\u001b[39;00m fibo(n\u001b[38;5;241m-\u001b[39m\u001b[38;5;241m1\u001b[39m)\u001b[38;5;241m+\u001b[39mfibo(n\u001b[38;5;241m-\u001b[39m\u001b[38;5;241m2\u001b[39m)\n",
      "Cell \u001b[1;32mIn[68], line 5\u001b[0m, in \u001b[0;36mfibo\u001b[1;34m(n)\u001b[0m\n\u001b[0;32m      3\u001b[0m     \u001b[38;5;28;01mreturn\u001b[39;00m n\n\u001b[0;32m      4\u001b[0m \u001b[38;5;28;01melse\u001b[39;00m:\n\u001b[1;32m----> 5\u001b[0m     \u001b[38;5;28;01mreturn\u001b[39;00m fibo(n\u001b[38;5;241m-\u001b[39m\u001b[38;5;241m1\u001b[39m)\u001b[38;5;241m+\u001b[39mfibo(n\u001b[38;5;241m-\u001b[39m\u001b[38;5;241m2\u001b[39m)\n",
      "    \u001b[1;31m[... skipping similar frames: fibo at line 5 (24 times)]\u001b[0m\n",
      "Cell \u001b[1;32mIn[68], line 5\u001b[0m, in \u001b[0;36mfibo\u001b[1;34m(n)\u001b[0m\n\u001b[0;32m      3\u001b[0m     \u001b[38;5;28;01mreturn\u001b[39;00m n\n\u001b[0;32m      4\u001b[0m \u001b[38;5;28;01melse\u001b[39;00m:\n\u001b[1;32m----> 5\u001b[0m     \u001b[38;5;28;01mreturn\u001b[39;00m fibo(n\u001b[38;5;241m-\u001b[39m\u001b[38;5;241m1\u001b[39m)\u001b[38;5;241m+\u001b[39mfibo(n\u001b[38;5;241m-\u001b[39m\u001b[38;5;241m2\u001b[39m)\n",
      "Cell \u001b[1;32mIn[68], line 1\u001b[0m, in \u001b[0;36mfibo\u001b[1;34m(n)\u001b[0m\n\u001b[1;32m----> 1\u001b[0m \u001b[38;5;28;01mdef\u001b[39;00m \u001b[38;5;21mfibo\u001b[39m(n):\n\u001b[0;32m      2\u001b[0m     \u001b[38;5;28;01mif\u001b[39;00m n\u001b[38;5;241m<\u001b[39m\u001b[38;5;241m=\u001b[39m\u001b[38;5;241m1\u001b[39m:\n\u001b[0;32m      3\u001b[0m         \u001b[38;5;28;01mreturn\u001b[39;00m n\n",
      "\u001b[1;31mKeyboardInterrupt\u001b[0m: "
     ]
    }
   ],
   "source": [
    "def fibo(n):\n",
    "    if n<=1:\n",
    "        return n\n",
    "    else:\n",
    "        return fibo(n-1)+fibo(n-2)\n",
    "\n",
    "for i in range(0,50):\n",
    "    print(fibo(i))"
   ]
  },
  {
   "cell_type": "code",
   "execution_count": 80,
   "id": "a7f4300f-24e7-46d9-881e-79b6f07f1645",
   "metadata": {},
   "outputs": [
    {
     "name": "stdin",
     "output_type": "stream",
     "text": [
      "enter the number you want to find the fibonacci to:  10\n"
     ]
    },
    {
     "name": "stdout",
     "output_type": "stream",
     "text": [
      "0\n",
      "1\n",
      "1\n",
      "2\n",
      "3\n",
      "5\n",
      "8\n",
      "13\n",
      "21\n",
      "34\n"
     ]
    }
   ],
   "source": [
    "def fibo(n,memo):\n",
    "    if memo[n] is not None:\n",
    "        return memo[n]\n",
    "    if n<=1:\n",
    "        memo[n]=n\n",
    "        return memo[n]\n",
    "    else:\n",
    "        memo[n]=fibo(n-1,memo)+fibo(n-2,memo)\n",
    "        return memo[n]\n",
    "x=int(input(\"enter the number you want to find the fibonacci to: \"))       \n",
    "memo=[None]*(x)\n",
    "for i in range(0,x):\n",
    "    print(fibo(i,memo))"
   ]
  },
  {
   "cell_type": "markdown",
   "id": "505f25d4-b568-40e0-9a36-09f8e4b80656",
   "metadata": {},
   "source": [
    "# Wap in python to find if the number is strong or not\n"
   ]
  },
  {
   "cell_type": "code",
   "execution_count": null,
   "id": "21666286-3d50-4109-b45e-501aa5a38db5",
   "metadata": {},
   "outputs": [],
   "source": [
    "n=int(input(\"enter the number\"))\n",
    "sum=0\n",
    "temp=n\n",
    "for i in range(0,len(str(n))):\n",
    "    l_term\n",
    "    \n",
    "\n",
    "        "
   ]
  },
  {
   "cell_type": "code",
   "execution_count": null,
   "id": "041ca925-baac-440f-a876-c5ed2ec58167",
   "metadata": {},
   "outputs": [],
   "source": []
  },
  {
   "cell_type": "code",
   "execution_count": null,
   "id": "ec897fce-2b08-4f00-8096-1792b5e60bc5",
   "metadata": {},
   "outputs": [],
   "source": []
  },
  {
   "cell_type": "code",
   "execution_count": null,
   "id": "cecbc6cb-f537-42ff-97a9-25d2f7de88ec",
   "metadata": {},
   "outputs": [],
   "source": []
  }
 ],
 "metadata": {
  "kernelspec": {
   "display_name": "Python 3 (ipykernel)",
   "language": "python",
   "name": "python3"
  },
  "language_info": {
   "codemirror_mode": {
    "name": "ipython",
    "version": 3
   },
   "file_extension": ".py",
   "mimetype": "text/x-python",
   "name": "python",
   "nbconvert_exporter": "python",
   "pygments_lexer": "ipython3",
   "version": "3.12.4"
  }
 },
 "nbformat": 4,
 "nbformat_minor": 5
}
