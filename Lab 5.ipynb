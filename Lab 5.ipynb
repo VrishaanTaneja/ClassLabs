{
 "cells": [
  {
   "cell_type": "markdown",
   "id": "eeb36e9a-54ab-43fa-8c2c-cac7f9cf9fd2",
   "metadata": {},
   "source": [
    "# LAB 4\n",
    "\n",
    "## WAP a program in python to give the angle of the hands in clock according to the given time\n"
   ]
  },
  {
   "cell_type": "code",
   "execution_count": 79,
   "id": "548ecd74-263e-4723-9a1b-6dd9cbbc4ac7",
   "metadata": {},
   "outputs": [
    {
     "name": "stdout",
     "output_type": "stream",
     "text": [
      "[263.5, 90.0, 192.0]\n"
     ]
    }
   ],
   "source": [
    "def clock_deg_analog(strn):\n",
    "    time_var=strn.split(\":\")\n",
    "    time_deg=[]\n",
    "    time_deg.append(int(time_var[0])*(360/12))\n",
    "    stand_dev=0\n",
    "    for digit in range(1,3):\n",
    "        time_deg.append((360/60)*int(time_var[digit]))\n",
    "        stand_dev+=(360/60)*int(time_var[digit])*1/12\n",
    "    time_deg[0]+=stand_dev\n",
    "    print(time_deg)\n",
    "    \n",
    "clock_deg_analog(\"8:15:32\")"
   ]
  },
  {
   "cell_type": "markdown",
   "id": "b0012168-7eb4-4bba-9f36-133aa639fc89",
   "metadata": {},
   "source": [
    "## WAP to find the factorial of any nymber using reduce function"
   ]
  },
  {
   "cell_type": "code",
   "execution_count": 34,
   "id": "7c569b6f-9d0f-4722-9054-59d4dcc66a9e",
   "metadata": {},
   "outputs": [
    {
     "name": "stdin",
     "output_type": "stream",
     "text": [
      "Enter the num you want the factorial to 5\n"
     ]
    },
    {
     "name": "stdout",
     "output_type": "stream",
     "text": [
      "120\n"
     ]
    }
   ],
   "source": [
    "from functools import reduce\n",
    "num=int(input(\"Enter the num you want the factorial to\"))\n",
    "num_list=range(1,num+1)\n",
    "res=reduce(lambda x,y: x*y, num_list)\n",
    "print(res)"
   ]
  },
  {
   "cell_type": "markdown",
   "id": "3518df0c-bcbb-4b3d-b4ed-8169efbc5fe9",
   "metadata": {},
   "source": [
    "## WAP tp Find the largest among 3 number using reduce function"
   ]
  },
  {
   "cell_type": "code",
   "execution_count": 66,
   "id": "9bcb619b-274e-460c-b463-892b314ad180",
   "metadata": {},
   "outputs": [
    {
     "name": "stdin",
     "output_type": "stream",
     "text": [
      "Enter the number1 1\n",
      "Enter the number2 2\n",
      "Enter the number3 3\n"
     ]
    },
    {
     "name": "stdout",
     "output_type": "stream",
     "text": [
      "3\n"
     ]
    }
   ],
   "source": [
    "from functools import reduce\n",
    "num1=int(input(\"Enter the number1\"))\n",
    "num2=int(input(\"Enter the number2\"))\n",
    "num3=int(input(\"Enter the number3\"))\n",
    "num_list=[num1,num2,num3]\n",
    "res=reduce(lambda x,y:x if x>y else y, num_list)\n",
    "print(res)"
   ]
  },
  {
   "cell_type": "code",
   "execution_count": null,
   "id": "a4d7bf54-9566-45cb-977d-5e3fd18d66ce",
   "metadata": {},
   "outputs": [],
   "source": []
  }
 ],
 "metadata": {
  "kernelspec": {
   "display_name": "Python 3 (ipykernel)",
   "language": "python",
   "name": "python3"
  },
  "language_info": {
   "codemirror_mode": {
    "name": "ipython",
    "version": 3
   },
   "file_extension": ".py",
   "mimetype": "text/x-python",
   "name": "python",
   "nbconvert_exporter": "python",
   "pygments_lexer": "ipython3",
   "version": "3.12.4"
  }
 },
 "nbformat": 4,
 "nbformat_minor": 5
}
