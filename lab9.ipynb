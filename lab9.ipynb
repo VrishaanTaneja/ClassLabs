{
 "cells": [
  {
   "cell_type": "code",
   "execution_count": 30,
   "id": "56ba0f27-7872-45cc-87a1-ce89f346c21e",
   "metadata": {},
   "outputs": [
    {
     "name": "stdout",
     "output_type": "stream",
     "text": [
      "sum:1\n",
      "average:1.0\n",
      "Number of elements:1\n"
     ]
    }
   ],
   "source": [
    "class EmptyList(Exception):\n",
    "    \"\"\"When the list is empty throwing an error\"\"\"\n",
    "    pass\n",
    "def sum_of_list(lst):\n",
    "    sum=0\n",
    "    count = 0\n",
    "    for i in list(lst):\n",
    "        sum+=i\n",
    "        count+=1\n",
    "    return (sum,count)\n",
    "\n",
    "def average(lst):\n",
    "    (sum,no_of_ele)=sum_of_list(lst)\n",
    "    avg=sum/no_of_ele\n",
    "    return avg\n",
    "try:\n",
    "    (sum , noofele)=sum_of_list([1])\n",
    "    avg=average([1])\n",
    "    print(f\"sum:{sum}\\naverage:{avg}\\nNumber of elements:{noofele}\")\n",
    "except ZeroDivisionError as e:\n",
    "    raise EmptyList(\"The list is Empty\")\n",
    "\n",
    "\n",
    "\n",
    "    \n",
    "    "
   ]
  },
  {
   "cell_type": "code",
   "execution_count": 32,
   "id": "73458cd2-bb47-4888-87b6-58ce58952b60",
   "metadata": {},
   "outputs": [
    {
     "name": "stdout",
     "output_type": "stream",
     "text": [
      "Case1\n",
      "Simple intrest is 12800\n",
      "Case2\n",
      "Intrest rate out of range 800\n"
     ]
    }
   ],
   "source": [
    "def simple_intrest(ammount,year,rate):\n",
    "    try:\n",
    "        if rate>100:\n",
    "            raise ValueError(rate)\n",
    "        intrest = ammount*rate*year\n",
    "        print(f\"Simple intrest is {intrest}\")\n",
    "        return intrest\n",
    "    except ValueError:\n",
    "        print(\"Intrest rate out of range\",rate)\n",
    "\n",
    "print(\"Case1\")\n",
    "simple_intrest(800,2,8)\n",
    "print(\"Case2\")\n",
    "simple_intrest(800,2,800)\n"
   ]
  },
  {
   "cell_type": "code",
   "execution_count": 34,
   "id": "32f6de47-173b-4663-b3e8-88b02fcc0f4c",
   "metadata": {},
   "outputs": [
    {
     "name": "stdin",
     "output_type": "stream",
     "text": [
      "Enter the value A 10\n",
      "Enter te value B 2\n"
     ]
    },
    {
     "name": "stdout",
     "output_type": "stream",
     "text": [
      "Answer:5.0\n"
     ]
    }
   ],
   "source": [
    "try:\n",
    "    a=int(input(\"Enter the value A\"))\n",
    "    b=int(input(\"Enter te value B\"))\n",
    "    c=a/b\n",
    "    print(f\"Answer:{c}\")\n",
    "except ZeroDivisionError as e:\n",
    "    raise ValueError(\"Division Failed\") from e\n",
    "\n"
   ]
  },
  {
   "cell_type": "code",
   "execution_count": 36,
   "id": "483e5f73-bc00-4892-9f8d-21ee459342be",
   "metadata": {},
   "outputs": [
    {
     "name": "stdin",
     "output_type": "stream",
     "text": [
      "Enter the value A 10\n",
      "Enter te value B 0\n"
     ]
    },
    {
     "ename": "ValueError",
     "evalue": "Division Failed",
     "output_type": "error",
     "traceback": [
      "\u001b[1;31m---------------------------------------------------------------------------\u001b[0m",
      "\u001b[1;31mZeroDivisionError\u001b[0m                         Traceback (most recent call last)",
      "Cell \u001b[1;32mIn[36], line 4\u001b[0m\n\u001b[0;32m      3\u001b[0m b\u001b[38;5;241m=\u001b[39m\u001b[38;5;28mint\u001b[39m(\u001b[38;5;28minput\u001b[39m(\u001b[38;5;124m\"\u001b[39m\u001b[38;5;124mEnter te value B\u001b[39m\u001b[38;5;124m\"\u001b[39m))\n\u001b[1;32m----> 4\u001b[0m c\u001b[38;5;241m=\u001b[39ma\u001b[38;5;241m/\u001b[39mb\n\u001b[0;32m      5\u001b[0m \u001b[38;5;28mprint\u001b[39m(\u001b[38;5;124mf\u001b[39m\u001b[38;5;124m\"\u001b[39m\u001b[38;5;124mAnswer:\u001b[39m\u001b[38;5;132;01m{\u001b[39;00mc\u001b[38;5;132;01m}\u001b[39;00m\u001b[38;5;124m\"\u001b[39m)\n",
      "\u001b[1;31mZeroDivisionError\u001b[0m: division by zero",
      "\nThe above exception was the direct cause of the following exception:\n",
      "\u001b[1;31mValueError\u001b[0m                                Traceback (most recent call last)",
      "Cell \u001b[1;32mIn[36], line 7\u001b[0m\n\u001b[0;32m      5\u001b[0m     \u001b[38;5;28mprint\u001b[39m(\u001b[38;5;124mf\u001b[39m\u001b[38;5;124m\"\u001b[39m\u001b[38;5;124mAnswer:\u001b[39m\u001b[38;5;132;01m{\u001b[39;00mc\u001b[38;5;132;01m}\u001b[39;00m\u001b[38;5;124m\"\u001b[39m)\n\u001b[0;32m      6\u001b[0m \u001b[38;5;28;01mexcept\u001b[39;00m \u001b[38;5;167;01mZeroDivisionError\u001b[39;00m \u001b[38;5;28;01mas\u001b[39;00m e:\n\u001b[1;32m----> 7\u001b[0m     \u001b[38;5;28;01mraise\u001b[39;00m \u001b[38;5;167;01mValueError\u001b[39;00m(\u001b[38;5;124m\"\u001b[39m\u001b[38;5;124mDivision Failed\u001b[39m\u001b[38;5;124m\"\u001b[39m) \u001b[38;5;28;01mfrom\u001b[39;00m \u001b[38;5;21;01me\u001b[39;00m\n",
      "\u001b[1;31mValueError\u001b[0m: Division Failed"
     ]
    }
   ],
   "source": [
    "try:\n",
    "    a=int(input(\"Enter the value A\"))\n",
    "    b=int(input(\"Enter te value B\"))\n",
    "    c=a/b\n",
    "    print(f\"Answer:{c}\")\n",
    "except ZeroDivisionError as e:\n",
    "    raise ValueError(\"Division Failed\") from e\n"
   ]
  },
  {
   "cell_type": "code",
   "execution_count": 38,
   "id": "c6370b4a-4ad9-47e3-8f74-3c1fa2d54144",
   "metadata": {},
   "outputs": [
    {
     "name": "stdin",
     "output_type": "stream",
     "text": [
      "Enter the value A 10\n",
      "Enter te value B 0\n"
     ]
    },
    {
     "name": "stdout",
     "output_type": "stream",
     "text": [
      "Can not divide by zero\n"
     ]
    }
   ],
   "source": [
    "try:\n",
    "    a=int(input(\"Enter the value A\"))\n",
    "    b=int(input(\"Enter te value B\"))\n",
    "    c=a/b\n",
    "    print(f\"Answer:{c}\")\n",
    "except ZeroDivisionError:\n",
    "    print(\"Can not divide by zero\")\n",
    "except ValueError:\n",
    "    print(\"Wrong Value Entered\")"
   ]
  },
  {
   "cell_type": "code",
   "execution_count": 40,
   "id": "91df2d73-23b2-4874-a289-3f822cdbc437",
   "metadata": {},
   "outputs": [
    {
     "name": "stdin",
     "output_type": "stream",
     "text": [
      "Enter the value A 10\n",
      "Enter te value B a\n"
     ]
    },
    {
     "name": "stdout",
     "output_type": "stream",
     "text": [
      "Wrong Value Entered\n"
     ]
    }
   ],
   "source": [
    "try:\n",
    "    a=int(input(\"Enter the value A\"))\n",
    "    b=int(input(\"Enter te value B\"))\n",
    "    c=a/b\n",
    "    print(f\"Answer:{c}\")\n",
    "except ZeroDivisionError:\n",
    "    print(\"Can not divide by zero\")\n",
    "except ValueError:\n",
    "    print(\"Wrong Value Entered\")"
   ]
  },
  {
   "cell_type": "code",
   "execution_count": 56,
   "id": "82778552-263f-4fa8-96ee-257de3d4bc19",
   "metadata": {},
   "outputs": [
    {
     "name": "stdin",
     "output_type": "stream",
     "text": [
      "Enter the value A 1\n",
      "Enter te value B 3\n"
     ]
    },
    {
     "name": "stdout",
     "output_type": "stream",
     "text": [
      "Answer:0.3333333333333333\n"
     ]
    },
    {
     "name": "stdin",
     "output_type": "stream",
     "text": [
      "Do you want to continue? 2\n"
     ]
    }
   ],
   "source": [
    "while(1):\n",
    "    try:\n",
    "        a=int(input(\"Enter the value A\"))\n",
    "        b=int(input(\"Enter te value B\"))\n",
    "        c=a/b\n",
    "        print(f\"Answer:{c}\")\n",
    "    except ZeroDivisionError:\n",
    "        print(\"Can not divide by zero\")\n",
    "    except ValueError:\n",
    "        print(\"Wrong Value Entered\")\n",
    "    finally:\n",
    "        try:\n",
    "            ch = input(\"Do you want to continue?\")\n",
    "            if ch:\n",
    "                break\n",
    "        except ValueError:\n",
    "            pass"
   ]
  },
  {
   "cell_type": "code",
   "execution_count": null,
   "id": "602378bf-34b7-4d6f-9719-97d50e471142",
   "metadata": {},
   "outputs": [],
   "source": [
    "class Error(Exception)"
   ]
  }
 ],
 "metadata": {
  "kernelspec": {
   "display_name": "Python 3 (ipykernel)",
   "language": "python",
   "name": "python3"
  },
  "language_info": {
   "codemirror_mode": {
    "name": "ipython",
    "version": 3
   },
   "file_extension": ".py",
   "mimetype": "text/x-python",
   "name": "python",
   "nbconvert_exporter": "python",
   "pygments_lexer": "ipython3",
   "version": "3.12.4"
  }
 },
 "nbformat": 4,
 "nbformat_minor": 5
}
