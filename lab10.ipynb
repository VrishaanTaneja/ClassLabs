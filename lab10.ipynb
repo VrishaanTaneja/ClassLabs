{
 "cells": [
  {
   "cell_type": "markdown",
   "id": "a4d4b4ef-ac4b-4095-9788-d8b063efa7e3",
   "metadata": {},
   "source": [
    "# Exception Handling\n",
    "(LAB 10)"
   ]
  },
  {
   "cell_type": "markdown",
   "id": "332f101a-78d5-4362-8b3e-1145f50745b8",
   "metadata": {},
   "source": [
    "## Implement the bubble sort algorithm using python (using classes and method)\n",
    "## Implement the insertion sort using Python (using classes and methods)\n",
    "## Implement the selection sort using python(using classes and methods)\n",
    "## Implement Merge sort or quick sort using python (using classes and methods)\n",
    "## implement the linear search algorithm using python (using classes and methods)\n",
    "## implement binary search using python (using classes and methods)\n",
    "which sorting algorithm is better: either linear search will be better or binary search\n",
    "## implement the binary tree using python\n"
   ]
  },
  {
   "cell_type": "code",
   "execution_count": null,
   "id": "644a12af-76e1-4839-b8b0-5b4f10865406",
   "metadata": {},
   "outputs": [],
   "source": []
  }
 ],
 "metadata": {
  "kernelspec": {
   "display_name": "Python 3 (ipykernel)",
   "language": "python",
   "name": "python3"
  },
  "language_info": {
   "codemirror_mode": {
    "name": "ipython",
    "version": 3
   },
   "file_extension": ".py",
   "mimetype": "text/x-python",
   "name": "python",
   "nbconvert_exporter": "python",
   "pygments_lexer": "ipython3",
   "version": "3.12.4"
  }
 },
 "nbformat": 4,
 "nbformat_minor": 5
}
