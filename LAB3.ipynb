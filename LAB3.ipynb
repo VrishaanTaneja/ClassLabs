{
 "cells": [
  {
   "cell_type": "code",
   "execution_count": 2,
   "id": "bd9b8fb6-0cdc-44a8-881b-5d8e6b73a598",
   "metadata": {},
   "outputs": [
    {
     "name": "stdout",
     "output_type": "stream",
     "text": [
      "HelloWorldWorld\n"
     ]
    }
   ],
   "source": [
    "print(\"Hello\"+2*\"World\")"
   ]
  },
  {
   "cell_type": "code",
   "execution_count": 24,
   "id": "1319c698-b7af-478c-96b7-80cd5d486117",
   "metadata": {},
   "outputs": [
    {
     "name": "stdout",
     "output_type": "stream",
     "text": [
      "False\n",
      "True\n"
     ]
    }
   ],
   "source": [
    "x=10\n",
    "y=10.0\n",
    "print(type(x) is type(y))\n",
    "print(y==x)"
   ]
  },
  {
   "cell_type": "raw",
   "id": "24d4f7d8-d344-42ce-8160-6a0fd3eb66e3",
   "metadata": {},
   "source": [
    "print(type(3.0) is float)"
   ]
  },
  {
   "cell_type": "code",
   "execution_count": 18,
   "id": "688a48f9-06dd-4a66-9cf3-7959bfde8f2a",
   "metadata": {},
   "outputs": [
    {
     "name": "stdout",
     "output_type": "stream",
     "text": [
      "True\n",
      "False\n"
     ]
    }
   ],
   "source": [
    "print(type(3.0) is float)\n",
    "print(type(3.0) is not float)\n"
   ]
  },
  {
   "cell_type": "code",
   "execution_count": 14,
   "id": "f81993c7-3bb9-4f2b-a4ca-21f99b385361",
   "metadata": {},
   "outputs": [
    {
     "name": "stdout",
     "output_type": "stream",
     "text": [
      "True\n"
     ]
    }
   ],
   "source": [
    "print(eval(\"float\") is float)"
   ]
  },
  {
   "cell_type": "code",
   "execution_count": 20,
   "id": "3556ed9a-406c-42f4-abd3-121cd70ee93b",
   "metadata": {},
   "outputs": [
    {
     "data": {
      "text/plain": [
       "dict"
      ]
     },
     "execution_count": 20,
     "metadata": {},
     "output_type": "execute_result"
    }
   ],
   "source": [
    "type({})"
   ]
  },
  {
   "cell_type": "code",
   "execution_count": 22,
   "id": "41e77ba7-adfd-4875-81d6-168f69811f90",
   "metadata": {},
   "outputs": [
    {
     "name": "stdout",
     "output_type": "stream",
     "text": [
      "<class 'dict'>\n"
     ]
    }
   ],
   "source": [
    "print(type({}))"
   ]
  },
  {
   "cell_type": "code",
   "execution_count": 34,
   "id": "6f59534c-8f62-4366-95fe-b3ab5b23f910",
   "metadata": {},
   "outputs": [
    {
     "name": "stdout",
     "output_type": "stream",
     "text": [
      "{1, 2, 3, 4, 5, 14}\n"
     ]
    }
   ],
   "source": [
    "x={1,2,3,4,5,3,2,14}\n",
    "print(x)"
   ]
  },
  {
   "cell_type": "code",
   "execution_count": 47,
   "id": "ec90c77c-a100-4c86-995a-59b8b1012fb2",
   "metadata": {},
   "outputs": [],
   "source": [
    "y=frozenset(x)\n"
   ]
  },
  {
   "cell_type": "code",
   "execution_count": 49,
   "id": "dee35a9b-6f0c-41c9-bf4f-c371436a4cf9",
   "metadata": {},
   "outputs": [
    {
     "name": "stdout",
     "output_type": "stream",
     "text": [
      "512\n"
     ]
    }
   ],
   "source": [
    "print(2**3**2)"
   ]
  },
  {
   "cell_type": "code",
   "execution_count": 51,
   "id": "aee9f032-9326-468f-95d2-c55adaf60627",
   "metadata": {},
   "outputs": [
    {
     "name": "stdout",
     "output_type": "stream",
     "text": [
      "2\n"
     ]
    }
   ],
   "source": [
    "x,y=2,5\n",
    "print(x**y%3)"
   ]
  },
  {
   "cell_type": "code",
   "execution_count": 55,
   "id": "c58bb13f-e6ab-481c-8988-ab03b57f7ba3",
   "metadata": {},
   "outputs": [
    {
     "name": "stdout",
     "output_type": "stream",
     "text": [
      "-4\n"
     ]
    }
   ],
   "source": [
    "print(-10//3)"
   ]
  },
  {
   "cell_type": "code",
   "execution_count": 57,
   "id": "08462b35-cb88-4152-a069-127baf880b82",
   "metadata": {},
   "outputs": [
    {
     "name": "stdout",
     "output_type": "stream",
     "text": [
      "3\n"
     ]
    }
   ],
   "source": [
    "print(5&3|2)"
   ]
  },
  {
   "cell_type": "code",
   "execution_count": 59,
   "id": "e5b7e05c-ce1d-46ed-b589-e3df198cb003",
   "metadata": {},
   "outputs": [
    {
     "name": "stdout",
     "output_type": "stream",
     "text": [
      "2\n"
     ]
    }
   ],
   "source": [
    "print(5<<1&3)"
   ]
  },
  {
   "cell_type": "code",
   "execution_count": null,
   "id": "7e528a4e-0217-435d-9b3c-7b832eb43ce7",
   "metadata": {},
   "outputs": [],
   "source": [
    "\n"
   ]
  }
 ],
 "metadata": {
  "kernelspec": {
   "display_name": "Python 3 (ipykernel)",
   "language": "python",
   "name": "python3"
  },
  "language_info": {
   "codemirror_mode": {
    "name": "ipython",
    "version": 3
   },
   "file_extension": ".py",
   "mimetype": "text/x-python",
   "name": "python",
   "nbconvert_exporter": "python",
   "pygments_lexer": "ipython3",
   "version": "3.12.4"
  }
 },
 "nbformat": 4,
 "nbformat_minor": 5
}
