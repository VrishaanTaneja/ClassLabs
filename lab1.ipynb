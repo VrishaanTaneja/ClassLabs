{
 "cells": [
  {
   "cell_type": "code",
   "execution_count": 25,
   "id": "fd50f05c-99af-4fe6-8cb9-7821828e0eb7",
   "metadata": {},
   "outputs": [
    {
     "name": "stdout",
     "output_type": "stream",
     "text": [
      "140734026037976\n",
      "\n",
      "\n",
      "140734026037976\n",
      "\n",
      "\n",
      "140734026038296\n"
     ]
    }
   ],
   "source": [
    "a=10\n",
    "b=10\n",
    "c=20\n",
    "print(id(a))\n",
    "print(\"\\n\")\n",
    "print(id(b))\n",
    "print(\"\\n\")\n",
    "print(id(c))"
   ]
  },
  {
   "cell_type": "code",
   "execution_count": 27,
   "id": "b2b43ca9-4ee9-4eaa-a1d8-d597f6199fbf",
   "metadata": {},
   "outputs": [
    {
     "data": {
      "text/plain": [
       "int"
      ]
     },
     "execution_count": 27,
     "metadata": {},
     "output_type": "execute_result"
    }
   ],
   "source": [
    "type(a)"
   ]
  },
  {
   "cell_type": "code",
   "execution_count": 29,
   "id": "d4e18f25-3e29-4e14-98f2-dcfc52dec2a7",
   "metadata": {},
   "outputs": [
    {
     "data": {
      "text/plain": [
       "int"
      ]
     },
     "execution_count": 29,
     "metadata": {},
     "output_type": "execute_result"
    }
   ],
   "source": [
    "type(b)"
   ]
  },
  {
   "cell_type": "code",
   "execution_count": 31,
   "id": "6dd23233-7726-4988-9826-04a92ea93f70",
   "metadata": {},
   "outputs": [
    {
     "data": {
      "text/plain": [
       "True"
      ]
     },
     "execution_count": 31,
     "metadata": {},
     "output_type": "execute_result"
    }
   ],
   "source": [
    "a is b"
   ]
  },
  {
   "cell_type": "code",
   "execution_count": 33,
   "id": "b694d3c9-e4ee-43f8-ba4d-9aab0abaed0d",
   "metadata": {},
   "outputs": [],
   "source": [
    "a=b=c=1"
   ]
  },
  {
   "cell_type": "code",
   "execution_count": 35,
   "id": "a7976fdc-3469-48a3-87cc-670351509495",
   "metadata": {},
   "outputs": [
    {
     "name": "stdout",
     "output_type": "stream",
     "text": [
      "1 1 1\n"
     ]
    }
   ],
   "source": [
    "print(a,b,c)"
   ]
  },
  {
   "cell_type": "code",
   "execution_count": 37,
   "id": "697c029a-4405-4fbe-a0aa-f2118382b58f",
   "metadata": {},
   "outputs": [],
   "source": [
    "a,b=20,30"
   ]
  },
  {
   "cell_type": "code",
   "execution_count": 39,
   "id": "85297626-2950-4655-b48e-69b42eb8cdde",
   "metadata": {},
   "outputs": [
    {
     "name": "stdout",
     "output_type": "stream",
     "text": [
      "area of circle is:  314.1593653589793\n"
     ]
    }
   ],
   "source": [
    "#wap a program to find the area of circle \n",
    "#a manually \n",
    "\n",
    "pi= 3.141593653589793238462643\n",
    "r= 10\n",
    "print(\"area of circle is: \" ,pi*(r**2))\n",
    "#b input from keyword\n",
    "pi= 3.141593653589793238462643\n",
    "r= int(input(\"Enter the radius of circle\"))\n",
    "print(\"area of circle is: \" ,pi*(r**2))"
   ]
  },
  {
   "cell_type": "code",
   "execution_count": 7,
   "id": "8d1639fe-9993-4e89-b805-5f678f0de6f9",
   "metadata": {},
   "outputs": [
    {
     "name": "stdin",
     "output_type": "stream",
     "text": [
      "Enter Radius 3\n"
     ]
    },
    {
     "name": "stdout",
     "output_type": "stream",
     "text": [
      "28.274333882308138\n"
     ]
    }
   ],
   "source": [
    "import math\n",
    "r=int(input(\"Enter Radius\"))\n",
    "a=math.pi*r*r\n",
    "print(a)"
   ]
  },
  {
   "cell_type": "code",
   "execution_count": null,
   "id": "6cd56fa5-d5db-4b17-b88c-c5156939854b",
   "metadata": {},
   "outputs": [],
   "source": []
  }
 ],
 "metadata": {
  "kernelspec": {
   "display_name": "Python 3 (ipykernel)",
   "language": "python",
   "name": "python3"
  },
  "language_info": {
   "codemirror_mode": {
    "name": "ipython",
    "version": 3
   },
   "file_extension": ".py",
   "mimetype": "text/x-python",
   "name": "python",
   "nbconvert_exporter": "python",
   "pygments_lexer": "ipython3",
   "version": "3.12.4"
  }
 },
 "nbformat": 4,
 "nbformat_minor": 5
}
