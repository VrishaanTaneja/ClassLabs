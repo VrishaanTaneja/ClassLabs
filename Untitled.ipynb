{
 "cells": [
  {
   "cell_type": "markdown",
   "id": "a16dc4df-10e1-4254-a212-0dacf310f4f4",
   "metadata": {},
   "source": [
    "## implement parametriesed, non parametrised and default constructor\n",
    "\n"
   ]
  },
  {
   "cell_type": "code",
   "execution_count": 14,
   "id": "740fd574-bc23-4429-ad01-1ddbeb86f2db",
   "metadata": {},
   "outputs": [
    {
     "name": "stdout",
     "output_type": "stream",
     "text": [
      "Object Created\n",
      "Hello there\n"
     ]
    }
   ],
   "source": [
    "class Parametrised:\n",
    "    def __init__(self,a,b,c):\n",
    "        self.name=a\n",
    "        self.age=b\n",
    "        self.marks=c\n",
    "class NonParametrised:\n",
    "    def __init__(self):\n",
    "        print(\"Object Created\")\n",
    "class Default:\n",
    "    def function1(self):\n",
    "        print(\"Hello there\")\n",
    "\n",
    "student1=Parametrised(\"Vrishaan\",19,{1:90,2:92,3:97,4:95})\n",
    "student2=NonParametrised()\n",
    "student3=Default()\n",
    "student3.function1()"
   ]
  },
  {
   "cell_type": "markdown",
   "id": "ab188598-6a4a-4610-a74c-ed9cfe79cb3b",
   "metadata": {},
   "source": [
    "## What is function overloading? does python support it? what will happen if class contain default parametriesed constructor?\n",
    "\n",
    "change the order of the different constructor and check what will happen\n"
   ]
  },
  {
   "cell_type": "code",
   "execution_count": 21,
   "id": "58af013a-24a5-40d6-8d50-71409ceebdae",
   "metadata": {},
   "outputs": [
    {
     "name": "stdout",
     "output_type": "stream",
     "text": [
      "Object Created\n"
     ]
    }
   ],
   "source": [
    "class Class1:\n",
    "    def __init__(self,a,b,c):\n",
    "        self.name=a\n",
    "        self.age=b\n",
    "        self.marks=c\n",
    "    def __init__(self):\n",
    "        print(\"Object Created\")\n",
    "    def function1(self):\n",
    "        print(\"Hello there\")\n",
    "\n",
    "c1=Class1()"
   ]
  },
  {
   "cell_type": "code",
   "execution_count": 5,
   "id": "f33c3e4b-5f76-4cf5-a402-0c2e4ae18efa",
   "metadata": {},
   "outputs": [],
   "source": [
    "class Class1:\n",
    "    def __init__(self):\n",
    "        print(\"Object Created\")\n",
    "    def __init__(self,a,b,c):\n",
    "        self.name=a\n",
    "        self.age=b\n",
    "        self.marks=c\n",
    "    \n",
    "    def function1(self):\n",
    "        print(\"Hello there\")\n",
    "\n",
    "c2=Class1('vrishaan',19,20)"
   ]
  },
  {
   "cell_type": "code",
   "execution_count": 27,
   "id": "ffb9e006-9105-4456-a918-087b2676251b",
   "metadata": {},
   "outputs": [],
   "source": [
    "c2=Class1(\"Vrishaan\",19,{1:95,2:97,3:93})"
   ]
  },
  {
   "cell_type": "markdown",
   "id": "41e473e9-94b4-4877-9d14-f369df350867",
   "metadata": {},
   "source": [
    "## What is a destructor? Why destructor is important in python? write a program to show the destroctor?"
   ]
  },
  {
   "cell_type": "code",
   "execution_count": 47,
   "id": "10bb9ccb-8c20-4023-8f50-c8d4d86220ae",
   "metadata": {},
   "outputs": [
    {
     "name": "stdout",
     "output_type": "stream",
     "text": [
      "Object deleted\n"
     ]
    }
   ],
   "source": [
    "class Class2:\n",
    "    def __init__(self,a,b,c):\n",
    "        self.name=a\n",
    "        self.age=b\n",
    "        self.marks=c\n",
    "    def __del__(self):\n",
    "        print(\"Object deleted\")\n",
    "cl1=Class2(\"Vrishaan\",19,{1:95,2:97,3:93})\n",
    "del cl1"
   ]
  },
  {
   "cell_type": "markdown",
   "id": "0d75ef12-e549-43f3-984e-607144603467",
   "metadata": {},
   "source": [
    "## What is constructor chaining and how is it achieved in python\n"
   ]
  },
  {
   "cell_type": "code",
   "execution_count": 3,
   "id": "d9a07a11-38a5-4a97-8fe1-e13847e25a1e",
   "metadata": {},
   "outputs": [
    {
     "ename": "NameError",
     "evalue": "name 'engine' is not defined",
     "output_type": "error",
     "traceback": [
      "\u001b[1;31m---------------------------------------------------------------------------\u001b[0m",
      "\u001b[1;31mNameError\u001b[0m                                 Traceback (most recent call last)",
      "Cell \u001b[1;32mIn[3], line 10\u001b[0m\n\u001b[0;32m      7\u001b[0m         \u001b[38;5;28msuper\u001b[39m()\u001b[38;5;241m.\u001b[39m\u001b[38;5;21m__init__\u001b[39m(engine)\n\u001b[0;32m      8\u001b[0m         \u001b[38;5;28mself\u001b[39m\u001b[38;5;241m.\u001b[39mspeed\u001b[38;5;241m=\u001b[39mMax_speed\n\u001b[1;32m---> 10\u001b[0m car1\u001b[38;5;241m=\u001b[39mCar(\u001b[38;5;241m200\u001b[39m)\n",
      "Cell \u001b[1;32mIn[3], line 7\u001b[0m, in \u001b[0;36mCar.__init__\u001b[1;34m(self, Max_speed)\u001b[0m\n\u001b[0;32m      6\u001b[0m \u001b[38;5;28;01mdef\u001b[39;00m \u001b[38;5;21m__init__\u001b[39m(\u001b[38;5;28mself\u001b[39m,Max_speed):\n\u001b[1;32m----> 7\u001b[0m     \u001b[38;5;28msuper\u001b[39m()\u001b[38;5;241m.\u001b[39m\u001b[38;5;21m__init__\u001b[39m(engine)\n\u001b[0;32m      8\u001b[0m     \u001b[38;5;28mself\u001b[39m\u001b[38;5;241m.\u001b[39mspeed\u001b[38;5;241m=\u001b[39mMax_speed\n",
      "\u001b[1;31mNameError\u001b[0m: name 'engine' is not defined"
     ]
    }
   ],
   "source": [
    "class vehicle:\n",
    "    def __init__(self,Engine):\n",
    "        self.engine=Engine\n",
    "\n",
    "class Car:\n",
    "    def __init__(self,Max_speed):\n",
    "        super().__init__(engine)\n",
    "        self.speed=Max_speed\n",
    "\n",
    "car1=Car(200)"
   ]
  },
  {
   "cell_type": "code",
   "execution_count": null,
   "id": "156a986e-f92e-4e9e-b660-152784854113",
   "metadata": {},
   "outputs": [],
   "source": []
  },
  {
   "cell_type": "code",
   "execution_count": null,
   "id": "d1c3aa9e-d8ad-49e6-928c-fd3820f71270",
   "metadata": {},
   "outputs": [],
   "source": []
  }
 ],
 "metadata": {
  "kernelspec": {
   "display_name": "Python 3 (ipykernel)",
   "language": "python",
   "name": "python3"
  },
  "language_info": {
   "codemirror_mode": {
    "name": "ipython",
    "version": 3
   },
   "file_extension": ".py",
   "mimetype": "text/x-python",
   "name": "python",
   "nbconvert_exporter": "python",
   "pygments_lexer": "ipython3",
   "version": "3.12.4"
  }
 },
 "nbformat": 4,
 "nbformat_minor": 5
}
