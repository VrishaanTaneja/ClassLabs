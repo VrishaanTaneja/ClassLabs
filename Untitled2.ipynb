{
 "cells": [
  {
   "cell_type": "markdown",
   "id": "9ddf78fd-6b6e-47d0-95af-1f320c51de2d",
   "metadata": {},
   "source": [
    "# Q1\n",
    "## Create a class person with attribute name, age, add a method displau() that prints the name and age. Then create a subclass student that inherits from person and adds an attribute student_id. write a method show_details in student to print all the details including student_id."
   ]
  },
  {
   "cell_type": "code",
   "execution_count": 61,
   "id": "27c191fc-8738-4446-82f4-b88f9213a8d1",
   "metadata": {},
   "outputs": [
    {
     "name": "stdout",
     "output_type": "stream",
     "text": [
      "Vrishaan is 19 years old \n",
      "Student id is 23fe10cse00111\n"
     ]
    }
   ],
   "source": [
    "class Person:\n",
    "    def __init__(self,name,age):\n",
    "        self.name=name\n",
    "        self.age=age\n",
    "    def display(self):\n",
    "        print(f\"{self.name} is {self.age} years old \")\n",
    "\n",
    "class Student(Person):\n",
    "    def __init__(self,name,age,student_id):\n",
    "        super().__init__(name,age)\n",
    "        self.sid=student_id\n",
    "    def show_details(self):\n",
    "        super().display()\n",
    "        print(f\"Student id is {self.sid}\")\n",
    "\n",
    "\n",
    "s1=Student('Vrishaan',19,'23fe10cse00111')\n",
    "s1.show_details()"
   ]
  },
  {
   "cell_type": "markdown",
   "id": "86a19923-dc48-45b1-8ea3-1dd4dad4cfb8",
   "metadata": {},
   "source": [
    "# Q2\n",
    "## Create a class Vehical with a method info() that prints this is a vehicle. Inherit car from the vehical and add a method car_info() to print this is a Car. Further create another subclass Electric car and add a metrhod battery_info() to print thios car has a battery demonstrate how multilevvel inheritance work \n"
   ]
  },
  {
   "cell_type": "code",
   "execution_count": 66,
   "id": "bfb09db1-17c1-40a6-8afb-4e4003c56410",
   "metadata": {},
   "outputs": [
    {
     "name": "stdout",
     "output_type": "stream",
     "text": [
      "this is a vehical\n",
      "this is a car\n",
      "this car has a battery\n"
     ]
    }
   ],
   "source": [
    "class Vehical:\n",
    "    def info(self):\n",
    "        print('this is a vehical')\n",
    "class car(Vehical):\n",
    "    def car_info(self):\n",
    "        super().info()\n",
    "        print('this is a car')\n",
    "class electric_car(car):\n",
    "    def electric_info(self):\n",
    "        super().car_info()\n",
    "        print('this car has a battery')\n",
    "\n",
    "c1=electric_car()\n",
    "c1.electric_info()"
   ]
  },
  {
   "cell_type": "markdown",
   "id": "dc3f9e3c-53ba-4fba-8c06-a0baa54b9a72",
   "metadata": {},
   "source": [
    "# Q4\n",
    "\n"
   ]
  },
  {
   "cell_type": "code",
   "execution_count": 74,
   "id": "3fdd97c7-d456-42e7-bc4b-8df06595fcce",
   "metadata": {},
   "outputs": [
    {
     "name": "stdout",
     "output_type": "stream",
     "text": [
      "animal makes a sound\n",
      "dog barks\n",
      "animal makes a sound\n",
      "cat meows\n"
     ]
    }
   ],
   "source": [
    "class Animal:\n",
    "    def sound(self):\n",
    "        print('animal makes a sound')\n",
    "class Dog(Animal):\n",
    "    def sound(self):\n",
    "        super().sound()\n",
    "        print('dog barks')\n",
    "class Cat(Animal):\n",
    "    def sound(self):\n",
    "        super().sound()\n",
    "        print('cat meows')\n",
    "dog=Dog()\n",
    "cat=Cat()\n",
    "dog.sound()\n",
    "cat.sound()"
   ]
  },
  {
   "cell_type": "markdown",
   "id": "df2ff44a-c07e-49b5-a68f-ed510adce418",
   "metadata": {},
   "source": [
    "# Q3"
   ]
  },
  {
   "cell_type": "code",
   "execution_count": 103,
   "id": "4c7a5c56-1c87-43c8-ba16-5d4c57ccbd35",
   "metadata": {},
   "outputs": [
    {
     "name": "stdout",
     "output_type": "stream",
     "text": [
      "Teacher a is 20 years old and teaches hello world \n"
     ]
    },
    {
     "ename": "AttributeError",
     "evalue": "'TutorAuthor' object has no attribute 'b'",
     "output_type": "error",
     "traceback": [
      "\u001b[1;31m---------------------------------------------------------------------------\u001b[0m",
      "\u001b[1;31mAttributeError\u001b[0m                            Traceback (most recent call last)",
      "Cell \u001b[1;32mIn[103], line 25\u001b[0m\n\u001b[0;32m     23\u001b[0m         \u001b[38;5;28msuper\u001b[39m()\u001b[38;5;241m.\u001b[39mdescription_2()\n\u001b[0;32m     24\u001b[0m tutor\u001b[38;5;241m=\u001b[39mTutorAuthor(\u001b[38;5;124m'\u001b[39m\u001b[38;5;124ma\u001b[39m\u001b[38;5;124m'\u001b[39m,\u001b[38;5;241m20\u001b[39m,\u001b[38;5;124m'\u001b[39m\u001b[38;5;124m12th\u001b[39m\u001b[38;5;124m'\u001b[39m,\u001b[38;5;124m'\u001b[39m\u001b[38;5;124mhello world\u001b[39m\u001b[38;5;124m'\u001b[39m)\n\u001b[1;32m---> 25\u001b[0m tutor\u001b[38;5;241m.\u001b[39mdescribe()\n",
      "Cell \u001b[1;32mIn[103], line 23\u001b[0m, in \u001b[0;36mTutorAuthor.describe\u001b[1;34m(self)\u001b[0m\n\u001b[0;32m     21\u001b[0m \u001b[38;5;28;01mdef\u001b[39;00m \u001b[38;5;21mdescribe\u001b[39m(\u001b[38;5;28mself\u001b[39m):\n\u001b[0;32m     22\u001b[0m     \u001b[38;5;28msuper\u001b[39m()\u001b[38;5;241m.\u001b[39mdescription_1()\n\u001b[1;32m---> 23\u001b[0m     \u001b[38;5;28msuper\u001b[39m()\u001b[38;5;241m.\u001b[39mdescription_2()\n",
      "Cell \u001b[1;32mIn[103], line 15\u001b[0m, in \u001b[0;36mAuthor.description_2\u001b[1;34m(self)\u001b[0m\n\u001b[0;32m     14\u001b[0m \u001b[38;5;28;01mdef\u001b[39;00m \u001b[38;5;21mdescription_2\u001b[39m(\u001b[38;5;28mself\u001b[39m):\n\u001b[1;32m---> 15\u001b[0m     \u001b[38;5;28mprint\u001b[39m(\u001b[38;5;124mf\u001b[39m\u001b[38;5;124m\"\u001b[39m\u001b[38;5;124mAuthor \u001b[39m\u001b[38;5;132;01m{\u001b[39;00m\u001b[38;5;28mself\u001b[39m\u001b[38;5;241m.\u001b[39mname\u001b[38;5;132;01m}\u001b[39;00m\u001b[38;5;124m is \u001b[39m\u001b[38;5;132;01m{\u001b[39;00m\u001b[38;5;28mself\u001b[39m\u001b[38;5;241m.\u001b[39mage\u001b[38;5;132;01m}\u001b[39;00m\u001b[38;5;124m years old and wrote \u001b[39m\u001b[38;5;132;01m{\u001b[39;00m\u001b[38;5;28mself\u001b[39m\u001b[38;5;241m.\u001b[39mb\u001b[38;5;132;01m}\u001b[39;00m\u001b[38;5;124m \u001b[39m\u001b[38;5;124m\"\u001b[39m)\n",
      "\u001b[1;31mAttributeError\u001b[0m: 'TutorAuthor' object has no attribute 'b'"
     ]
    }
   ],
   "source": [
    "class Teacher:\n",
    "    def __init__(self,name,age,clas):\n",
    "        self.name=name\n",
    "        self.age=age\n",
    "        self.cl=clas\n",
    "    def description_1(self):\n",
    "        print(f\"Teacher {self.name} is {self.age} years old and teaches {self.cl} \")\n",
    "\n",
    "class Author:\n",
    "    def __init__(self,name,age,book):\n",
    "        self.name=name\n",
    "        self.age=age\n",
    "        self.b=book\n",
    "    def description_2(self):\n",
    "        print(f\"Author {self.name} is {self.age} years old and wrote {self.b} \")\n",
    "\n",
    "class TutorAuthor(Teacher,Author):\n",
    "    def __init__(self,name,age,clas,book):\n",
    "        super().__init__(name,age,clas)\n",
    "        super().__init__(name,age,book)\n",
    "    def describe(self):\n",
    "        super().description_1()\n",
    "        super().description_2()\n",
    "tutor=TutorAuthor('a',20,'12th','hello world')\n",
    "tutor.describe()"
   ]
  },
  {
   "cell_type": "code",
   "execution_count": null,
   "id": "b96f174c-af40-4312-98da-5e8c2efeee97",
   "metadata": {},
   "outputs": [],
   "source": []
  }
 ],
 "metadata": {
  "kernelspec": {
   "display_name": "Python 3 (ipykernel)",
   "language": "python",
   "name": "python3"
  },
  "language_info": {
   "codemirror_mode": {
    "name": "ipython",
    "version": 3
   },
   "file_extension": ".py",
   "mimetype": "text/x-python",
   "name": "python",
   "nbconvert_exporter": "python",
   "pygments_lexer": "ipython3",
   "version": "3.12.4"
  }
 },
 "nbformat": 4,
 "nbformat_minor": 5
}
