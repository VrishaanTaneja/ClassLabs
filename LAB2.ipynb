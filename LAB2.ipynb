{
 "cells": [
  {
   "cell_type": "code",
   "execution_count": 1,
   "id": "5e9e5d11-7718-4190-bf54-6f520dd642d2",
   "metadata": {},
   "outputs": [
    {
     "name": "stdin",
     "output_type": "stream",
     "text": [
      "Enter any Integer 20\n"
     ]
    },
    {
     "name": "stdout",
     "output_type": "stream",
     "text": [
      "The Value of a is : 20\n"
     ]
    }
   ],
   "source": [
    "a=int(input(\"Enter any Integer\"))\n",
    "print(\"The Value of a is :\",a)"
   ]
  },
  {
   "cell_type": "code",
   "execution_count": 3,
   "id": "4d6e3e22-7e20-4c56-9a34-d1177dd0b7d8",
   "metadata": {},
   "outputs": [
    {
     "name": "stdin",
     "output_type": "stream",
     "text": [
      "Enter any float 20.3\n"
     ]
    },
    {
     "name": "stdout",
     "output_type": "stream",
     "text": [
      "The Value of a is : 20.3\n",
      "<class 'float'>\n"
     ]
    },
    {
     "name": "stdin",
     "output_type": "stream",
     "text": [
      "Enter any string Hello\n"
     ]
    },
    {
     "name": "stdout",
     "output_type": "stream",
     "text": [
      "The Value of a is : Hello\n",
      "<class 'str'>\n"
     ]
    },
    {
     "name": "stdin",
     "output_type": "stream",
     "text": [
      "Enter any Integer 10\n"
     ]
    },
    {
     "name": "stdout",
     "output_type": "stream",
     "text": [
      "The Value of a is : 10\n",
      "<class 'int'>\n"
     ]
    },
    {
     "name": "stdin",
     "output_type": "stream",
     "text": [
      "Enter any Float 32.3\n"
     ]
    },
    {
     "name": "stdout",
     "output_type": "stream",
     "text": [
      "The Value of a is : 32.3\n",
      "<class 'float'>\n"
     ]
    },
    {
     "name": "stdin",
     "output_type": "stream",
     "text": [
      "Enter any string 'Hello World'\n"
     ]
    },
    {
     "name": "stdout",
     "output_type": "stream",
     "text": [
      "The Value of a is : Hello World\n",
      "<class 'str'>\n"
     ]
    }
   ],
   "source": [
    "a=float(input(\"Enter any float\"))\n",
    "print(\"The Value of a is :\",a)\n",
    "print(type(a))\n",
    "a=input(\"Enter any string\")\n",
    "print(\"The Value of a is :\",a)\n",
    "print(type(a))\n",
    "a=eval(input(\"Enter any Integer\"))\n",
    "print(\"The Value of a is :\",a)\n",
    "print(type(a))\n",
    "a=eval(input(\"Enter any Float\"))\n",
    "print(\"The Value of a is :\",a)\n",
    "print(type(a))\n",
    "a=eval(input(\"Enter any string\"))\n",
    "print(\"The Value of a is :\",a)\n",
    "print(type(a))"
   ]
  },
  {
   "cell_type": "code",
   "execution_count": 13,
   "id": "04c19c36-8da0-4f40-b33e-1e05d3bb7299",
   "metadata": {},
   "outputs": [
    {
     "name": "stdout",
     "output_type": "stream",
     "text": [
      "Welcome to MUJ\n"
     ]
    }
   ],
   "source": [
    "gpa=7.0\n",
    "if gpa > 6.0:\n",
    "    print(\"Welcome to MUJ\")\n",
    "else:\n",
    "    print(\"Your Application is Denied\")"
   ]
  },
  {
   "cell_type": "code",
   "execution_count": 9,
   "id": "6871662b-54d1-4071-952e-14cce7eab5cf",
   "metadata": {},
   "outputs": [
    {
     "name": "stdout",
     "output_type": "stream",
     "text": [
      "Welcome to MUJ\n"
     ]
    }
   ],
   "source": [
    "gpa=7.0\n",
    "print(\"Welcome to MUJ\" if gpa>6.0 else \"Your application is denied\")"
   ]
  },
  {
   "cell_type": "code",
   "execution_count": 13,
   "id": "202a3b9c-d6c6-4f89-8248-051400770938",
   "metadata": {},
   "outputs": [
    {
     "name": "stdout",
     "output_type": "stream",
     "text": [
      "wello\n"
     ]
    }
   ],
   "source": [
    "if print('wello'):\n",
    "    print('hello')\n",
    "    "
   ]
  },
  {
   "cell_type": "code",
   "execution_count": 15,
   "id": "992e205b-eef2-4cf9-95c5-a519cbea8d32",
   "metadata": {},
   "outputs": [
    {
     "name": "stdin",
     "output_type": "stream",
     "text": [
      "Enter the number 10\n"
     ]
    },
    {
     "name": "stdout",
     "output_type": "stream",
     "text": [
      "even\n"
     ]
    }
   ],
   "source": [
    "\n",
    "num=int(input(\"Enter the number\"))\n",
    "print(\"even\" if num%2==0 else \"odd\");\n"
   ]
  },
  {
   "cell_type": "code",
   "execution_count": 25,
   "id": "46ad07eb-a061-4d4c-86b4-1a1ea459cc1d",
   "metadata": {},
   "outputs": [
    {
     "name": "stdout",
     "output_type": "stream",
     "text": [
      "the numeber is even\n"
     ]
    }
   ],
   "source": [
    "def oddeven(a):\n",
    "    if a%2==0:\n",
    "        print(\"the numeber is even\")\n",
    "        return\n",
    "    print(\"the number is odd\")\n",
    "    return\n",
    "\n",
    "oddeven(10)"
   ]
  },
  {
   "cell_type": "code",
   "execution_count": 23,
   "id": "25d79296-de3d-4550-9366-5476b4d70582",
   "metadata": {},
   "outputs": [
    {
     "name": "stdin",
     "output_type": "stream",
     "text": [
      "Please enter the integer 10\n"
     ]
    },
    {
     "name": "stdout",
     "output_type": "stream",
     "text": [
      "even\n"
     ]
    }
   ],
   "source": [
    "a=int(input(\"Please enter the integer\"))\n",
    "flag='odd'\n",
    "if a%2==0:\n",
    "    flag=\"even\"\n",
    "print(flag)\n"
   ]
  },
  {
   "cell_type": "code",
   "execution_count": 29,
   "id": "c424522f-1825-4c83-aa8e-9f2f5a8f15d1",
   "metadata": {},
   "outputs": [
    {
     "name": "stdin",
     "output_type": "stream",
     "text": [
      "enter marks 1 100\n",
      "enter marks 2 99\n",
      "enter marks 3 98\n",
      "enter marks 4 80\n",
      "enter marks 5 75\n"
     ]
    },
    {
     "name": "stdout",
     "output_type": "stream",
     "text": [
      "Grade A+\n"
     ]
    }
   ],
   "source": [
    "mark1=float(input(\"enter marks 1\"))\n",
    "mark2=float(input(\"enter marks 2\"))\n",
    "mark3=float(input(\"enter marks 3\"))\n",
    "mark4=float(input(\"enter marks 4\"))\n",
    "mark5=float(input(\"enter marks 5\"))\n",
    "per=(mark1+mark2+mark3+mark4+mark5)/5\n",
    "\n",
    "if per>90:\n",
    "    print(\"Grade A+\")\n",
    "elif (per<=90)and(per>80):\n",
    "    print(\"Grade A\")\n",
    "elif (per<=80)and(per>70):\n",
    "    print(\"Grade B\")\n",
    "elif (per<=70)and(per>60):\n",
    "    print(\"Grade B+\")\n",
    "elif (per<=60)and(per>50):\n",
    "    print(\"Grade C\")\n",
    "elif (per<=50)and(per>40):\n",
    "    print(\"Grade D\")\n",
    "elif (per<=40)and(per>35):\n",
    "    print(\"Grade E\")\n",
    "elif per>35:\n",
    "    print(\"Grade F\")\n",
    "else:\n",
    "    print(\"invalid marks\")\n"
   ]
  },
  {
   "cell_type": "code",
   "execution_count": 31,
   "id": "846fdbaf-4c08-4769-929a-410b3e1d8a63",
   "metadata": {},
   "outputs": [
    {
     "data": {
      "text/plain": [
       "90.4"
      ]
     },
     "execution_count": 31,
     "metadata": {},
     "output_type": "execute_result"
    }
   ],
   "source": [
    "(100+99+98+80+75)/5\n",
    "\n"
   ]
  },
  {
   "cell_type": "code",
   "execution_count": null,
   "id": "d4371201-80b0-4799-9449-1ccb9ebdcf83",
   "metadata": {},
   "outputs": [],
   "source": []
  }
 ],
 "metadata": {
  "kernelspec": {
   "display_name": "Python 3 (ipykernel)",
   "language": "python",
   "name": "python3"
  },
  "language_info": {
   "codemirror_mode": {
    "name": "ipython",
    "version": 3
   },
   "file_extension": ".py",
   "mimetype": "text/x-python",
   "name": "python",
   "nbconvert_exporter": "python",
   "pygments_lexer": "ipython3",
   "version": "3.12.4"
  }
 },
 "nbformat": 4,
 "nbformat_minor": 5
}
