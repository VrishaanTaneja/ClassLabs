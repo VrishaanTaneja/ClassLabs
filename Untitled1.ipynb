{
 "cells": [
  {
   "cell_type": "markdown",
   "id": "9d00b3f3-3db7-4c6d-88fd-0f0681643221",
   "metadata": {},
   "source": [
    "# Wap in python to use various inbuilt functions of list \n",
    "# wap in python to pass the list as an argument in the function \n",
    "# wap in python to take variable length arguments in functions and perform cube of each element\n",
    "# Wap for solving the tower of hanoi problem for n = 3 disk\n",
    "# wap in python that accepts string and calculate the number of uppercase and lower case letters in string \n",
    "# Wap to compute GCD\n"
   ]
  },
  {
   "cell_type": "code",
   "execution_count": 33,
   "id": "d31d05a8-64d1-488e-83fd-0e962e3c23f1",
   "metadata": {},
   "outputs": [
    {
     "name": "stdout",
     "output_type": "stream",
     "text": [
      "[1, 0, 3, 4, 7, 6, 6, 8, 9, 3, 4]\n",
      "[1, 0, 3, 4, 7, 6, 6, 8, 9, 3, 4]\n",
      "2\n",
      "[1, 0, 3, 4, 7, 6, 6, 8, 9, 3, 4, 1, 0, 3, 4, 7, 6, 6, 8, 9, 3, 4]\n",
      "Value not found\n",
      "[0, 3, 4, 7, 6, 6, 8, 9, 3, 4, 1, 0, 3, 4, 7, 6, 6, 8, 9, 3]\n",
      "[0, 0, 1, 3, 3, 3, 3, 4, 4, 4, 6, 6, 6, 6, 7, 7, 8, 8, 9, 9]\n"
     ]
    }
   ],
   "source": [
    "#Question one\n",
    "#1append\n",
    "list1 = [1,0,3,4,7,6,6,8,9,3]\n",
    "list1.append(4)\n",
    "print(list1)\n",
    "list2=list1.copy()\n",
    "print(list2)\n",
    "print(list2.count(6))\n",
    "list1.extend(list2)\n",
    "print(list1)\n",
    "x=list1.index(6)\n",
    "try: \n",
    "    x= list1.index(5)\n",
    "    print(x)\n",
    "except ValueError:\n",
    "    print(\"Value not found\")\n",
    "list1.pop()\n",
    "list1.remove(1)\n",
    "print(list1)\n",
    "list1.sort()\n",
    "print(list1)"
   ]
  },
  {
   "cell_type": "code",
   "execution_count": 35,
   "id": "104849de-9a96-4826-85ad-61c2e1d6691d",
   "metadata": {},
   "outputs": [
    {
     "name": "stdout",
     "output_type": "stream",
     "text": [
      "0\n",
      "0\n",
      "1\n",
      "3\n",
      "3\n",
      "3\n",
      "3\n",
      "4\n",
      "4\n",
      "4\n",
      "6\n",
      "6\n",
      "6\n",
      "6\n",
      "7\n",
      "7\n",
      "8\n",
      "8\n",
      "9\n",
      "9\n"
     ]
    }
   ],
   "source": [
    "#Question 2\n",
    "\n",
    "def Fun(list):\n",
    "    for i in list:\n",
    "        print(i)\n",
    "Fun(list1)"
   ]
  },
  {
   "cell_type": "code",
   "execution_count": 39,
   "id": "3b77a108-761a-4720-81a0-d6717a2a0ed9",
   "metadata": {},
   "outputs": [
    {
     "name": "stdout",
     "output_type": "stream",
     "text": [
      "[0, 1, 8, 27, 64, 125, 216, 343, 512, 729]\n"
     ]
    }
   ],
   "source": [
    "# Question 3\n",
    "\n",
    "def Fun2(variable):\n",
    "    x=[i**3 for i in range(0,variable)]\n",
    "    return x\n",
    "print(Fun2(10))"
   ]
  },
  {
   "cell_type": "code",
   "execution_count": 55,
   "id": "805f04fe-5f56-4d44-93b3-c3bb74947e4a",
   "metadata": {},
   "outputs": [
    {
     "name": "stdin",
     "output_type": "stream",
     "text": [
      "Enter the String:  Hello World!2343@123\n"
     ]
    },
    {
     "name": "stdout",
     "output_type": "stream",
     "text": [
      "The total number of upper case letters are:2\n",
      "The total number of lower case letter are:8\n",
      "And number of other characters are:10\n"
     ]
    }
   ],
   "source": [
    "# Question 5\n",
    "\n",
    "x=input(\"Enter the String: \")\n",
    "upper=0\n",
    "lower=0\n",
    "others=0\n",
    "for i in range(0,len(x)):\n",
    "    if x[i].isalpha():\n",
    "        if x[i].isupper():\n",
    "            upper+=1\n",
    "        elif x[i].islower():\n",
    "            lower+=1\n",
    "        else:\n",
    "            other+=1\n",
    "    else:\n",
    "        others+=1\n",
    "print(f'The total number of upper case letters are:{upper}\\nThe total number of lower case letter are:{lower}\\nAnd number of other characters are:{others}')"
   ]
  },
  {
   "cell_type": "code",
   "execution_count": 67,
   "id": "8ece6846-a062-4f6f-9658-57ac60370ea2",
   "metadata": {},
   "outputs": [
    {
     "name": "stdout",
     "output_type": "stream",
     "text": [
      "5\n"
     ]
    }
   ],
   "source": [
    "#Question 6\n",
    "\n",
    "def GCD(num1,num2):\n",
    "    GCD=1\n",
    "    if num1>num2:\n",
    "        greatest = num1\n",
    "    else:\n",
    "        greatest = num2\n",
    "    for i in range(2,greatest):\n",
    "        if(num1%i==0 and num2%i==0):\n",
    "            GCD*=i\n",
    "    return(GCD)\n",
    "print(GCD(5,10))"
   ]
  },
  {
   "cell_type": "code",
   "execution_count": null,
   "id": "4bf1ac55-7381-48b8-ab82-f8e13837fcdc",
   "metadata": {},
   "outputs": [],
   "source": [
    "# Question 4\n"
   ]
  }
 ],
 "metadata": {
  "kernelspec": {
   "display_name": "Python 3 (ipykernel)",
   "language": "python",
   "name": "python3"
  },
  "language_info": {
   "codemirror_mode": {
    "name": "ipython",
    "version": 3
   },
   "file_extension": ".py",
   "mimetype": "text/x-python",
   "name": "python",
   "nbconvert_exporter": "python",
   "pygments_lexer": "ipython3",
   "version": "3.12.4"
  }
 },
 "nbformat": 4,
 "nbformat_minor": 5
}
