{
 "cells": [
  {
   "cell_type": "markdown",
   "id": "5c94e42b-03c0-4225-9095-99eeacc7c0ad",
   "metadata": {},
   "source": [
    "# OOPS \n",
    "\n",
    "## wap to create a class called PERSON create 2 instances of the person class set their attribute using constructor and print their name and age\n",
    "\n"
   ]
  },
  {
   "cell_type": "code",
   "execution_count": 10,
   "id": "fb0b2d61-435b-43b9-8c87-015437679fb9",
   "metadata": {},
   "outputs": [
    {
     "name": "stdout",
     "output_type": "stream",
     "text": [
      "name of the person is Vrishaan Taneja and age of the person is 19. This person has the job of Game Developer in an Indie game studio\n",
      "name of the person is Harshvardhan Chettri and age of the person is 19. This person has the job of Game developer in Indie game studio\n"
     ]
    }
   ],
   "source": [
    "class Person:\n",
    "   def __init__(self,name,age,job):\n",
    "       self.name=name\n",
    "       self.age=age\n",
    "       self.job=job\n",
    "   def describe(self):\n",
    "       print(f\"name of the person is {self.name} and age of the person is {self.age}. This person has the job of {self.job}\")\n",
    "\n",
    "\n",
    "person1=Person(\"Vrishaan Taneja\",19,\"Game Developer in an Indie game studio\")\n",
    "\n",
    "\n",
    "person2=Person(\"Harshvardhan Chettri\",19,\"Game developer in Indie game studio\")\n",
    "\n",
    "\n",
    "person1.describe()\n",
    "person2.describe()\n"
   ]
  },
  {
   "cell_type": "markdown",
   "id": "be26b17c-05ee-493d-9c61-c8fafef45855",
   "metadata": {},
   "source": [
    "## Create a class name student with a string string variable \"name\" and integer value \"Roll_No\". Assign the value of roll no as 2 and that naeme of \"Jhon\" by creating an object of class student.\n"
   ]
  },
  {
   "cell_type": "code",
   "execution_count": 19,
   "id": "80f4ee87-603e-4a9c-b710-5870e7325614",
   "metadata": {},
   "outputs": [
    {
     "name": "stdout",
     "output_type": "stream",
     "text": [
      "Name of student is : Jhon\n",
      "His roll number is : 2\n",
      "Name of the student:Jhon\n",
      "Roll Number of the student:2\n"
     ]
    }
   ],
   "source": [
    "class Student:\n",
    "    def __init__(self,name,roll_no):\n",
    "        self.name=name\n",
    "        self.roll=roll_no\n",
    "    def describe(self):\n",
    "        print(f\"Name of the student:{self.name}\\nRoll Number of the student:{self.roll}\")\n",
    "\n",
    "\n",
    "student1=Student(\"Jhon\",2)\n",
    "print(f\"Name of student is : {student1.name}\\nHis roll number is : {student1.roll}\")\n",
    "student1.describe()"
   ]
  },
  {
   "cell_type": "markdown",
   "id": "1bb840f5-5176-4067-8fda-ed8eaf54ad09",
   "metadata": {},
   "source": [
    "# Wap to define a class to represent a bank account with methods to deposits withdraw and check the balance\n"
   ]
  },
  {
   "cell_type": "code",
   "execution_count": 14,
   "id": "08bf95c3-8e54-40a5-8983-e821d7f50c56",
   "metadata": {},
   "outputs": [
    {
     "name": "stdout",
     "output_type": "stream",
     "text": [
      "Account number 1000001 withdrawed 10000 balance is now 99990000\n",
      "Account number 1000001 deposited 20000 balance is now 100010000\n",
      "Account number 1000001 has a balance of 100010000\n",
      "[-10000, 20000]\n"
     ]
    }
   ],
   "source": [
    "class Account:\n",
    "    def __init__(self,account_number,name,balance):\n",
    "        self.acc=account_number\n",
    "        self.name=name\n",
    "        self.bal=int(balance)\n",
    "        self.history=[]\n",
    "\n",
    "    def withdraw(self,withdraw_ammount):\n",
    "        self.bal=int(self.bal)-withdraw_ammount\n",
    "        self.history.append(-withdraw_ammount)\n",
    "        print(f\"Account number {self.acc} withdrawed {withdraw_ammount} balance is now {self.bal}\")\n",
    "\n",
    "\n",
    "    def deposit(self,deposit_ammount):\n",
    "        self.bal=int(self.bal)+deposit_ammount\n",
    "        self.history.append(deposit_ammount)\n",
    "        (deposit_ammount)\n",
    "        print(f\"Account number {self.acc} deposited {deposit_ammount} balance is now {self.bal}\")\n",
    "    def check_bal(self):\n",
    "        print(f\"Account number {self.acc} has a balance of {self.bal}\")\n",
    "\n",
    "\n",
    "acc1=Account(1000001,\"Vrishaan\",100000000)\n",
    "\n",
    "acc1.withdraw(10000)\n",
    "acc1.deposit(20000)\n",
    "acc1.check_bal()\n",
    "print(acc1.history)\n",
    "        "
   ]
  },
  {
   "cell_type": "markdown",
   "id": "f3c37d99-2fa5-4c47-8a58-66ca5e04ba7e",
   "metadata": {},
   "source": [
    "## WAP to define a class student with attributes like name age and create object to represent different students"
   ]
  },
  {
   "cell_type": "code",
   "execution_count": 18,
   "id": "9f425803-db01-41e7-a573-653b1a37c506",
   "metadata": {},
   "outputs": [
    {
     "name": "stdout",
     "output_type": "stream",
     "text": [
      "age of student is 19\n",
      "Name of the student:Jhon\n",
      "Roll Number of the student:2\n"
     ]
    }
   ],
   "source": [
    "class Student1:\n",
    "    def __init__(self,name,roll_no,age):\n",
    "        self.name=name\n",
    "        self.roll=roll_no\n",
    "        self.age=age\n",
    "    def describe(self):\n",
    "        print(f\"Name of the student:{self.name}\\nRoll Number of the student:{self.roll}\")\n",
    "\n",
    "\n",
    "student1=Student1(\"Jhon\",2,19)\n",
    "print(f\"age of student is {student1.age}\")\n",
    "student1.describe()"
   ]
  },
  {
   "cell_type": "code",
   "execution_count": null,
   "id": "ca70ef49-acc6-4855-a97c-453061d917a8",
   "metadata": {},
   "outputs": [],
   "source": []
  }
 ],
 "metadata": {
  "kernelspec": {
   "display_name": "Python 3 (ipykernel)",
   "language": "python",
   "name": "python3"
  },
  "language_info": {
   "codemirror_mode": {
    "name": "ipython",
    "version": 3
   },
   "file_extension": ".py",
   "mimetype": "text/x-python",
   "name": "python",
   "nbconvert_exporter": "python",
   "pygments_lexer": "ipython3",
   "version": "3.12.4"
  }
 },
 "nbformat": 4,
 "nbformat_minor": 5
}
